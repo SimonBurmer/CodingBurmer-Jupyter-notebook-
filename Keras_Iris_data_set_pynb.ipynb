{
  "nbformat": 4,
  "nbformat_minor": 0,
  "metadata": {
    "colab": {
      "name": "Keras_Iris_data_set.pynb",
      "provenance": [],
      "collapsed_sections": [],
      "authorship_tag": "ABX9TyP8wIdPACmkwER4MVBHvotf",
      "include_colab_link": true
    },
    "kernelspec": {
      "name": "python3",
      "display_name": "Python 3"
    }
  },
  "cells": [
    {
      "cell_type": "markdown",
      "metadata": {
        "id": "view-in-github",
        "colab_type": "text"
      },
      "source": [
        "<a href=\"https://colab.research.google.com/github/SimonBurmer/Jupyter-Notebook/blob/master/Keras_Iris_data_set_pynb.ipynb\" target=\"_parent\"><img src=\"https://colab.research.google.com/assets/colab-badge.svg\" alt=\"Open In Colab\"/></a>"
      ]
    },
    {
      "cell_type": "code",
      "metadata": {
        "id": "XPp35lkPApmz",
        "colab_type": "code",
        "colab": {}
      },
      "source": [
        "import numpy as np\n",
        "import pandas as pd\n",
        "import matplotlib \n",
        "import matplotlib.pyplot as plt\n",
        "from sklearn.datasets import load_iris\n",
        "from sklearn.model_selection import train_test_split\n",
        "from sklearn.preprocessing import OneHotEncoder, StandardScaler\n",
        "\n",
        "#all the data is saved in an nparry\n",
        "iris = load_iris()\n",
        "features = iris['data']\n",
        "target = iris['target']\n",
        "target_names =  iris['target_names']\n",
        "feature_names = iris['feature_names']"
      ],
      "execution_count": 0,
      "outputs": []
    },
    {
      "cell_type": "markdown",
      "metadata": {
        "id": "CchqztjSt7hZ",
        "colab_type": "text"
      },
      "source": [
        "#**Show Dataset**\n",
        "\n",
        "\n",
        "---\n",
        "\n"
      ]
    },
    {
      "cell_type": "code",
      "metadata": {
        "id": "86rklAgtAtdL",
        "colab_type": "code",
        "outputId": "13680621-aba1-4d05-8962-198f937949dc",
        "colab": {
          "base_uri": "https://localhost:8080/",
          "height": 419
        }
      },
      "source": [
        "\n",
        "iris_target_list =target.tolist() \n",
        "#to store differten data types we have to convert the array into a list\n",
        "\n",
        "for i in range(len(iris_target_list)):\n",
        "    if iris_target_list[i] == 0:\n",
        "        iris_target_list[i] = \"Iris setosa\"\n",
        "    if iris_target_list[i] == 1:\n",
        "        iris_target_list[i] = \"Iris virginica\"\n",
        "    if iris_target_list[i] == 2:\n",
        "        iris_target_list[i] = \"Iris versicolor\"\n",
        "\n",
        "frame = pd.DataFrame(features, columns= feature_names)\n",
        "frame.insert(4, \"Iris\", iris_target_list)\n",
        "frame"
      ],
      "execution_count": 14,
      "outputs": [
        {
          "output_type": "execute_result",
          "data": {
            "text/html": [
              "<div>\n",
              "<style scoped>\n",
              "    .dataframe tbody tr th:only-of-type {\n",
              "        vertical-align: middle;\n",
              "    }\n",
              "\n",
              "    .dataframe tbody tr th {\n",
              "        vertical-align: top;\n",
              "    }\n",
              "\n",
              "    .dataframe thead th {\n",
              "        text-align: right;\n",
              "    }\n",
              "</style>\n",
              "<table border=\"1\" class=\"dataframe\">\n",
              "  <thead>\n",
              "    <tr style=\"text-align: right;\">\n",
              "      <th></th>\n",
              "      <th>sepal length (cm)</th>\n",
              "      <th>sepal width (cm)</th>\n",
              "      <th>petal length (cm)</th>\n",
              "      <th>petal width (cm)</th>\n",
              "      <th>Iris</th>\n",
              "    </tr>\n",
              "  </thead>\n",
              "  <tbody>\n",
              "    <tr>\n",
              "      <th>0</th>\n",
              "      <td>5.1</td>\n",
              "      <td>3.5</td>\n",
              "      <td>1.4</td>\n",
              "      <td>0.2</td>\n",
              "      <td>Iris setosa</td>\n",
              "    </tr>\n",
              "    <tr>\n",
              "      <th>1</th>\n",
              "      <td>4.9</td>\n",
              "      <td>3.0</td>\n",
              "      <td>1.4</td>\n",
              "      <td>0.2</td>\n",
              "      <td>Iris setosa</td>\n",
              "    </tr>\n",
              "    <tr>\n",
              "      <th>2</th>\n",
              "      <td>4.7</td>\n",
              "      <td>3.2</td>\n",
              "      <td>1.3</td>\n",
              "      <td>0.2</td>\n",
              "      <td>Iris setosa</td>\n",
              "    </tr>\n",
              "    <tr>\n",
              "      <th>3</th>\n",
              "      <td>4.6</td>\n",
              "      <td>3.1</td>\n",
              "      <td>1.5</td>\n",
              "      <td>0.2</td>\n",
              "      <td>Iris setosa</td>\n",
              "    </tr>\n",
              "    <tr>\n",
              "      <th>4</th>\n",
              "      <td>5.0</td>\n",
              "      <td>3.6</td>\n",
              "      <td>1.4</td>\n",
              "      <td>0.2</td>\n",
              "      <td>Iris setosa</td>\n",
              "    </tr>\n",
              "    <tr>\n",
              "      <th>...</th>\n",
              "      <td>...</td>\n",
              "      <td>...</td>\n",
              "      <td>...</td>\n",
              "      <td>...</td>\n",
              "      <td>...</td>\n",
              "    </tr>\n",
              "    <tr>\n",
              "      <th>145</th>\n",
              "      <td>6.7</td>\n",
              "      <td>3.0</td>\n",
              "      <td>5.2</td>\n",
              "      <td>2.3</td>\n",
              "      <td>Iris versicolor</td>\n",
              "    </tr>\n",
              "    <tr>\n",
              "      <th>146</th>\n",
              "      <td>6.3</td>\n",
              "      <td>2.5</td>\n",
              "      <td>5.0</td>\n",
              "      <td>1.9</td>\n",
              "      <td>Iris versicolor</td>\n",
              "    </tr>\n",
              "    <tr>\n",
              "      <th>147</th>\n",
              "      <td>6.5</td>\n",
              "      <td>3.0</td>\n",
              "      <td>5.2</td>\n",
              "      <td>2.0</td>\n",
              "      <td>Iris versicolor</td>\n",
              "    </tr>\n",
              "    <tr>\n",
              "      <th>148</th>\n",
              "      <td>6.2</td>\n",
              "      <td>3.4</td>\n",
              "      <td>5.4</td>\n",
              "      <td>2.3</td>\n",
              "      <td>Iris versicolor</td>\n",
              "    </tr>\n",
              "    <tr>\n",
              "      <th>149</th>\n",
              "      <td>5.9</td>\n",
              "      <td>3.0</td>\n",
              "      <td>5.1</td>\n",
              "      <td>1.8</td>\n",
              "      <td>Iris versicolor</td>\n",
              "    </tr>\n",
              "  </tbody>\n",
              "</table>\n",
              "<p>150 rows × 5 columns</p>\n",
              "</div>"
            ],
            "text/plain": [
              "     sepal length (cm)  sepal width (cm)  ...  petal width (cm)             Iris\n",
              "0                  5.1               3.5  ...               0.2      Iris setosa\n",
              "1                  4.9               3.0  ...               0.2      Iris setosa\n",
              "2                  4.7               3.2  ...               0.2      Iris setosa\n",
              "3                  4.6               3.1  ...               0.2      Iris setosa\n",
              "4                  5.0               3.6  ...               0.2      Iris setosa\n",
              "..                 ...               ...  ...               ...              ...\n",
              "145                6.7               3.0  ...               2.3  Iris versicolor\n",
              "146                6.3               2.5  ...               1.9  Iris versicolor\n",
              "147                6.5               3.0  ...               2.0  Iris versicolor\n",
              "148                6.2               3.4  ...               2.3  Iris versicolor\n",
              "149                5.9               3.0  ...               1.8  Iris versicolor\n",
              "\n",
              "[150 rows x 5 columns]"
            ]
          },
          "metadata": {
            "tags": []
          },
          "execution_count": 14
        }
      ]
    },
    {
      "cell_type": "markdown",
      "metadata": {
        "id": "0nI30_v0vSK4",
        "colab_type": "text"
      },
      "source": [
        "# **Data Preperation**\n",
        "\n",
        "---\n",
        "\n",
        "\n",
        "1.   I use the OneHotEncoder to encode the target into a One-hot vector.\n",
        "2.   Then i use a StandardScaler to remove the mean and scale the features to unit variance.\n",
        "1.   Finally i perform a train test split.\n",
        "\n",
        "\n",
        "\n",
        "\n",
        "\n",
        "\n",
        "\n",
        "\n",
        "\n"
      ]
    },
    {
      "cell_type": "code",
      "metadata": {
        "id": "YAdTzGnQvYd1",
        "colab_type": "code",
        "outputId": "8225e68c-592f-4817-8cb5-38ddefb38d16",
        "colab": {
          "base_uri": "https://localhost:8080/",
          "height": 136
        }
      },
      "source": [
        "# One hot encod the target\n",
        "target2D = target[:, np.newaxis]\n",
        "\n",
        "enc = OneHotEncoder()\n",
        "y = enc.fit_transform(target2D) #fit_transform needs a 2D array \n",
        "y = y.toarray()\n",
        "\n",
        "print(target2D[:3,])\n",
        "print(\"becoms:\")\n",
        "print(y[:3,])"
      ],
      "execution_count": 15,
      "outputs": [
        {
          "output_type": "stream",
          "text": [
            "[[0]\n",
            " [0]\n",
            " [0]]\n",
            "becoms:\n",
            "[[1. 0. 0.]\n",
            " [1. 0. 0.]\n",
            " [1. 0. 0.]]\n"
          ],
          "name": "stdout"
        }
      ]
    },
    {
      "cell_type": "code",
      "metadata": {
        "id": "nENRaYs4Hfwe",
        "colab_type": "code",
        "outputId": "5e4e2fff-3d98-4005-ef48-60059cbb51c8",
        "colab": {
          "base_uri": "https://localhost:8080/",
          "height": 136
        }
      },
      "source": [
        "# Scale fetures to have mean 0 and variance 1 \n",
        "scaler = StandardScaler()\n",
        "X = scaler.fit_transform(features)\n",
        "\n",
        "print(features[:3,])\n",
        "print(\"becoms:\")\n",
        "print(X[:3,])"
      ],
      "execution_count": 16,
      "outputs": [
        {
          "output_type": "stream",
          "text": [
            "[[5.1 3.5 1.4 0.2]\n",
            " [4.9 3.  1.4 0.2]\n",
            " [4.7 3.2 1.3 0.2]]\n",
            "becoms:\n",
            "[[-0.90068117  1.01900435 -1.34022653 -1.3154443 ]\n",
            " [-1.14301691 -0.13197948 -1.34022653 -1.3154443 ]\n",
            " [-1.38535265  0.32841405 -1.39706395 -1.3154443 ]]\n"
          ],
          "name": "stdout"
        }
      ]
    },
    {
      "cell_type": "code",
      "metadata": {
        "id": "qBZeOcQnMYSs",
        "colab_type": "code",
        "colab": {}
      },
      "source": [
        "# Split the data set into training and testing\n",
        "X_train, X_test, Y_train, Y_test = train_test_split(X, y, test_size=0.5, random_state=1)"
      ],
      "execution_count": 0,
      "outputs": []
    },
    {
      "cell_type": "markdown",
      "metadata": {
        "id": "yHewEgE6OTeH",
        "colab_type": "text"
      },
      "source": [
        "# **Visualize the Data**\n",
        "\n",
        "---\n",
        "\n"
      ]
    },
    {
      "cell_type": "code",
      "metadata": {
        "id": "k28_fJttR3kh",
        "colab_type": "code",
        "outputId": "05f6b980-491b-445a-d468-db971f49e94c",
        "colab": {
          "base_uri": "https://localhost:8080/",
          "height": 442
        }
      },
      "source": [
        "plt.figure(figsize= (20,7))\n",
        "plt.subplot(1,2,1)\n",
        "for i, target_name in enumerate(target_names):\n",
        "    X_plot = features[target == i]\n",
        "    plt.plot(X_plot[:, 0], X_plot[:, 1], linestyle='none', marker='o', label=target_name)\n",
        "plt.xlabel(feature_names[0])\n",
        "plt.ylabel(feature_names[1])\n",
        "plt.legend()\n",
        "plt.axis('equal')\n",
        "\n",
        "\n",
        "plt.subplot(1,2,2)\n",
        "for i, target_name in enumerate(target_names):\n",
        "    X_plot = features[target == i]\n",
        "    plt.plot(X_plot[:, 2], X_plot[:, 3], linestyle='none', marker='o', label=target_name)\n",
        "plt.xlabel(feature_names[2])\n",
        "plt.ylabel(feature_names[3])\n",
        "plt.legend()\n",
        "plt.axis('equal')\n",
        "\n",
        "plt.show()\n"
      ],
      "execution_count": 18,
      "outputs": [
        {
          "output_type": "display_data",
          "data": {
            "image/png": "[encoded data removed]",
            "text/plain": [
              "<Figure size 1440x504 with 2 Axes>"
            ]
          },
          "metadata": {
            "tags": []
          }
        }
      ]
    },
    {
      "cell_type": "markdown",
      "metadata": {
        "id": "6h2rTJLxP5Xx",
        "colab_type": "text"
      },
      "source": [
        "# **Build Keras models**\n",
        "\n",
        "---\n",
        "\n"
      ]
    },
    {
      "cell_type": "code",
      "metadata": {
        "id": "R-LUHpX1Qiz0",
        "colab_type": "code",
        "colab": {
          "base_uri": "https://localhost:8080/",
          "height": 289
        },
        "outputId": "4df9d606-f87f-4172-e1ae-eb7b933060bf"
      },
      "source": [
        "from tensorflow.keras import  layers, models\n",
        "\n",
        "\n",
        "\n",
        "def create_model(input_dim, output_dim, nodes, n=1,name='model'):\n",
        "    # Create model\n",
        "    model = models.Sequential(name=name)\n",
        "    for i in range(n):\n",
        "        model.add(layers.Dense(nodes, input_dim=input_dim, activation='relu'))\n",
        "        model.add(layers.Dense(output_dim, activation='softmax'))\n",
        "\n",
        "    # Compile model\n",
        "    model.compile(loss='categorical_crossentropy', optimizer='adam', metrics=['accuracy'])\n",
        "    return model\n",
        "\n",
        "myModels = []\n",
        "for i in range(1,4):\n",
        "    myModels.append(create_model(4, 3, 8, i,\"Model_\" + str(i)))\n",
        "\n",
        "myModels[1].summary()"
      ],
      "execution_count": 19,
      "outputs": [
        {
          "output_type": "stream",
          "text": [
            "Model: \"Model_2\"\n",
            "_________________________________________________________________\n",
            "Layer (type)                 Output Shape              Param #   \n",
            "=================================================================\n",
            "dense_14 (Dense)             (None, 8)                 40        \n",
            "_________________________________________________________________\n",
            "dense_15 (Dense)             (None, 3)                 27        \n",
            "_________________________________________________________________\n",
            "dense_16 (Dense)             (None, 8)                 32        \n",
            "_________________________________________________________________\n",
            "dense_17 (Dense)             (None, 3)                 27        \n",
            "=================================================================\n",
            "Total params: 126\n",
            "Trainable params: 126\n",
            "Non-trainable params: 0\n",
            "_________________________________________________________________\n"
          ],
          "name": "stdout"
        }
      ]
    },
    {
      "cell_type": "markdown",
      "metadata": {
        "id": "XxC-cpqlk8jX",
        "colab_type": "text"
      },
      "source": [
        "# **Train the Models**\n",
        "\n",
        "---\n",
        "\n"
      ]
    },
    {
      "cell_type": "code",
      "metadata": {
        "id": "GAQ1WvrJk_zt",
        "colab_type": "code",
        "colab": {
          "base_uri": "https://localhost:8080/",
          "height": 221
        },
        "outputId": "514bcd0e-6271-411e-b264-0d3633bde497"
      },
      "source": [
        "history_list = []\n",
        "\n",
        "for model in myModels:\n",
        "    print('Model name:', model.name)\n",
        "    history = model.fit(X_train, Y_train, batch_size=5, epochs=100, verbose=0, validation_data=(X_test, Y_test))\n",
        "    history_list.append(history)\n",
        "    score = model.evaluate(X_test, Y_test, verbose=0)\n",
        "    print('Test loss:', score[0])\n",
        "    print('Test accuracy:', score[1])\n",
        "    print(\" \")"
      ],
      "execution_count": 22,
      "outputs": [
        {
          "output_type": "stream",
          "text": [
            "Model name: Model_1\n",
            "Test loss: 0.1292921006679535\n",
            "Test accuracy: 0.9333333373069763\n",
            " \n",
            "Model name: Model_2\n",
            "Test loss: 0.06781816482543945\n",
            "Test accuracy: 0.9733333587646484\n",
            " \n",
            "Model name: Model_3\n",
            "Test loss: 0.09010672569274902\n",
            "Test accuracy: 0.9733333587646484\n",
            " \n"
          ],
          "name": "stdout"
        }
      ]
    },
    {
      "cell_type": "markdown",
      "metadata": {
        "id": "U9tOfM_Mh8kk",
        "colab_type": "text"
      },
      "source": [
        "# **Plot Results**\n",
        "\n",
        "---\n",
        "\n"
      ]
    },
    {
      "cell_type": "code",
      "metadata": {
        "id": "tG0jcCppiJsW",
        "colab_type": "code",
        "colab": {
          "base_uri": "https://localhost:8080/",
          "height": 335
        },
        "outputId": "1b966fd4-661c-41b1-d171-33126d573a13"
      },
      "source": [
        "#Plot Accuracy and Loss\n",
        "fig, (ax1, ax2) = plt.subplots(1,2, figsize=(20,5))\n",
        "\n",
        "for i, history in enumerate(history_list):\n",
        "    val_acc = history.history['val_accuracy']\n",
        "    val_loss = history.history['val_loss']\n",
        "    ax1.plot(val_acc, label=myModels[i].name)\n",
        "    ax2.plot(val_loss, label=myModels[i].name)\n",
        "    \n",
        "ax1.set_ylabel('validation accuracy')\n",
        "ax2.set_ylabel('validation loss')\n",
        "ax1.set_xlabel('epochs')\n",
        "ax2.set_xlabel('epochs')\n",
        "ax1.legend()\n",
        "ax2.legend()\n",
        "plt.show()"
      ],
      "execution_count": 23,
      "outputs": [
        {
          "output_type": "display_data",
          "data": {
            "image/png": "[encoded data removed]",
            "text/plain": [
              "<Figure size 1440x360 with 2 Axes>"
            ]
          },
          "metadata": {
            "tags": []
          }
        }
      ]
    }
  ]
}